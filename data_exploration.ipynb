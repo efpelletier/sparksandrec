{
 "cells": [
  {
   "cell_type": "markdown",
   "id": "6e274de7",
   "metadata": {},
   "source": [
    "# Data Exploration: Sparks & Rec"
   ]
  },
  {
   "cell_type": "markdown",
   "id": "1078b3e7",
   "metadata": {},
   "source": [
    "First, download and import necessary libraries. "
   ]
  },
  {
   "cell_type": "code",
   "execution_count": 5,
   "id": "c0b287a7",
   "metadata": {},
   "outputs": [
    {
     "name": "stdout",
     "output_type": "stream",
     "text": [
      "Requirement already satisfied: altair in c:\\users\\stlp\\anaconda3\\lib\\site-packages (4.2.0)\n",
      "Requirement already satisfied: vega_datasets in c:\\users\\stlp\\anaconda3\\lib\\site-packages (0.9.0)\n",
      "Requirement already satisfied: numpy in c:\\users\\stlp\\anaconda3\\lib\\site-packages (from altair) (1.20.3)\n",
      "Requirement already satisfied: entrypoints in c:\\users\\stlp\\anaconda3\\lib\\site-packages (from altair) (0.3)\n",
      "Requirement already satisfied: toolz in c:\\users\\stlp\\anaconda3\\lib\\site-packages (from altair) (0.11.1)\n",
      "Requirement already satisfied: jsonschema>=3.0 in c:\\users\\stlp\\anaconda3\\lib\\site-packages (from altair) (3.2.0)\n",
      "Requirement already satisfied: jinja2 in c:\\users\\stlp\\anaconda3\\lib\\site-packages (from altair) (2.11.3)\n",
      "Requirement already satisfied: pandas>=0.18 in c:\\users\\stlp\\anaconda3\\lib\\site-packages (from altair) (1.3.4)\n",
      "Requirement already satisfied: attrs>=17.4.0 in c:\\users\\stlp\\anaconda3\\lib\\site-packages (from jsonschema>=3.0->altair) (21.2.0)\n",
      "Requirement already satisfied: pyrsistent>=0.14.0 in c:\\users\\stlp\\anaconda3\\lib\\site-packages (from jsonschema>=3.0->altair) (0.18.0)\n",
      "Requirement already satisfied: six>=1.11.0 in c:\\users\\stlp\\anaconda3\\lib\\site-packages (from jsonschema>=3.0->altair) (1.16.0)\n",
      "Requirement already satisfied: setuptools in c:\\users\\stlp\\anaconda3\\lib\\site-packages (from jsonschema>=3.0->altair) (58.0.4)\n",
      "Requirement already satisfied: python-dateutil>=2.7.3 in c:\\users\\stlp\\anaconda3\\lib\\site-packages (from pandas>=0.18->altair) (2.8.2)\n",
      "Requirement already satisfied: pytz>=2017.3 in c:\\users\\stlp\\anaconda3\\lib\\site-packages (from pandas>=0.18->altair) (2021.3)\n",
      "Requirement already satisfied: MarkupSafe>=0.23 in c:\\users\\stlp\\anaconda3\\lib\\site-packages (from jinja2->altair) (1.1.1)\n",
      "Note: you may need to restart the kernel to use updated packages.\n"
     ]
    }
   ],
   "source": [
    "pip install altair vega_datasets"
   ]
  },
  {
   "cell_type": "code",
   "execution_count": 3,
   "id": "3d2b607e",
   "metadata": {},
   "outputs": [],
   "source": [
    "import pandas as pd\n",
    "import altair as alt"
   ]
  },
  {
   "cell_type": "code",
   "execution_count": null,
   "id": "56e6e8b8",
   "metadata": {},
   "outputs": [],
   "source": []
  }
 ],
 "metadata": {
  "kernelspec": {
   "display_name": "Python 3 (ipykernel)",
   "language": "python",
   "name": "python3"
  },
  "language_info": {
   "codemirror_mode": {
    "name": "ipython",
    "version": 3
   },
   "file_extension": ".py",
   "mimetype": "text/x-python",
   "name": "python",
   "nbconvert_exporter": "python",
   "pygments_lexer": "ipython3",
   "version": "3.9.7"
  }
 },
 "nbformat": 4,
 "nbformat_minor": 5
}
