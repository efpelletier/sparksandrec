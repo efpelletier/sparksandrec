{
 "cells": [
  {
   "cell_type": "markdown",
   "id": "1795265f",
   "metadata": {},
   "source": [
    "# Data Exploration: Sparks & Rec"
   ]
  },
  {
   "cell_type": "markdown",
   "id": "f38204b0",
   "metadata": {},
   "source": [
    "First, download and import necessary libraries. "
   ]
  },
  {
   "cell_type": "code",
   "execution_count": 5,
   "id": "6b11f0d7",
   "metadata": {},
   "outputs": [
    {
     "name": "stdout",
     "output_type": "stream",
     "text": [
      "Requirement already satisfied: altair in c:\\users\\stlp\\anaconda3\\lib\\site-packages (4.2.0)\n",
      "Requirement already satisfied: vega_datasets in c:\\users\\stlp\\anaconda3\\lib\\site-packages (0.9.0)\n",
      "Requirement already satisfied: numpy in c:\\users\\stlp\\anaconda3\\lib\\site-packages (from altair) (1.20.3)\n",
      "Requirement already satisfied: entrypoints in c:\\users\\stlp\\anaconda3\\lib\\site-packages (from altair) (0.3)\n",
      "Requirement already satisfied: toolz in c:\\users\\stlp\\anaconda3\\lib\\site-packages (from altair) (0.11.1)\n",
      "Requirement already satisfied: jsonschema>=3.0 in c:\\users\\stlp\\anaconda3\\lib\\site-packages (from altair) (3.2.0)\n",
      "Requirement already satisfied: jinja2 in c:\\users\\stlp\\anaconda3\\lib\\site-packages (from altair) (2.11.3)\n",
      "Requirement already satisfied: pandas>=0.18 in c:\\users\\stlp\\anaconda3\\lib\\site-packages (from altair) (1.3.4)\n",
      "Requirement already satisfied: attrs>=17.4.0 in c:\\users\\stlp\\anaconda3\\lib\\site-packages (from jsonschema>=3.0->altair) (21.2.0)\n",
      "Requirement already satisfied: pyrsistent>=0.14.0 in c:\\users\\stlp\\anaconda3\\lib\\site-packages (from jsonschema>=3.0->altair) (0.18.0)\n",
      "Requirement already satisfied: six>=1.11.0 in c:\\users\\stlp\\anaconda3\\lib\\site-packages (from jsonschema>=3.0->altair) (1.16.0)\n",
      "Requirement already satisfied: setuptools in c:\\users\\stlp\\anaconda3\\lib\\site-packages (from jsonschema>=3.0->altair) (58.0.4)\n",
      "Requirement already satisfied: python-dateutil>=2.7.3 in c:\\users\\stlp\\anaconda3\\lib\\site-packages (from pandas>=0.18->altair) (2.8.2)\n",
      "Requirement already satisfied: pytz>=2017.3 in c:\\users\\stlp\\anaconda3\\lib\\site-packages (from pandas>=0.18->altair) (2021.3)\n",
      "Requirement already satisfied: MarkupSafe>=0.23 in c:\\users\\stlp\\anaconda3\\lib\\site-packages (from jinja2->altair) (1.1.1)\n",
      "Note: you may need to restart the kernel to use updated packages.\n"
     ]
    }
   ],
   "source": [
    "pip install altair vega_datasets"
   ]
  },
  {
   "cell_type": "code",
   "execution_count": 14,
   "id": "ae49258b",
   "metadata": {},
   "outputs": [],
   "source": [
    "import pandas as pd\n",
    "import altair as alt"
   ]
  },
  {
   "cell_type": "markdown",
   "id": "1ce54502",
   "metadata": {},
   "source": [
    "Load in the data and look at the first few rows"
   ]
  },
  {
   "cell_type": "code",
   "execution_count": 12,
   "id": "fd2d2b2d",
   "metadata": {
    "scrolled": true
   },
   "outputs": [
    {
     "data": {
      "text/html": [
       "<div>\n",
       "<style scoped>\n",
       "    .dataframe tbody tr th:only-of-type {\n",
       "        vertical-align: middle;\n",
       "    }\n",
       "\n",
       "    .dataframe tbody tr th {\n",
       "        vertical-align: top;\n",
       "    }\n",
       "\n",
       "    .dataframe thead th {\n",
       "        text-align: right;\n",
       "    }\n",
       "</style>\n",
       "<table border=\"1\" class=\"dataframe\">\n",
       "  <thead>\n",
       "    <tr style=\"text-align: right;\">\n",
       "      <th></th>\n",
       "      <th>siteid</th>\n",
       "      <th>Name</th>\n",
       "      <th>month</th>\n",
       "      <th>year</th>\n",
       "      <th>years_fire</th>\n",
       "      <th>pre_post_fire</th>\n",
       "      <th>burned</th>\n",
       "      <th>closed_ever</th>\n",
       "      <th>tot_vis</th>\n",
       "      <th>closed_month</th>\n",
       "      <th>d2p</th>\n",
       "    </tr>\n",
       "  </thead>\n",
       "  <tbody>\n",
       "    <tr>\n",
       "      <th>0</th>\n",
       "      <td>CRG_002</td>\n",
       "      <td>Oneonta Gorge</td>\n",
       "      <td>1</td>\n",
       "      <td>2015</td>\n",
       "      <td>-3</td>\n",
       "      <td>pre</td>\n",
       "      <td>yes</td>\n",
       "      <td>yes</td>\n",
       "      <td>169</td>\n",
       "      <td>open</td>\n",
       "      <td>2015-01-15</td>\n",
       "    </tr>\n",
       "    <tr>\n",
       "      <th>1</th>\n",
       "      <td>CRG_002</td>\n",
       "      <td>Oneonta Gorge</td>\n",
       "      <td>1</td>\n",
       "      <td>2016</td>\n",
       "      <td>-2</td>\n",
       "      <td>pre</td>\n",
       "      <td>yes</td>\n",
       "      <td>yes</td>\n",
       "      <td>436</td>\n",
       "      <td>open</td>\n",
       "      <td>2016-01-15</td>\n",
       "    </tr>\n",
       "    <tr>\n",
       "      <th>2</th>\n",
       "      <td>CRG_002</td>\n",
       "      <td>Oneonta Gorge</td>\n",
       "      <td>1</td>\n",
       "      <td>2017</td>\n",
       "      <td>-1</td>\n",
       "      <td>pre</td>\n",
       "      <td>yes</td>\n",
       "      <td>yes</td>\n",
       "      <td>788</td>\n",
       "      <td>open</td>\n",
       "      <td>2017-01-15</td>\n",
       "    </tr>\n",
       "    <tr>\n",
       "      <th>3</th>\n",
       "      <td>CRG_002</td>\n",
       "      <td>Oneonta Gorge</td>\n",
       "      <td>1</td>\n",
       "      <td>2018</td>\n",
       "      <td>0</td>\n",
       "      <td>post</td>\n",
       "      <td>yes</td>\n",
       "      <td>yes</td>\n",
       "      <td>0</td>\n",
       "      <td>closed</td>\n",
       "      <td>2018-01-15</td>\n",
       "    </tr>\n",
       "    <tr>\n",
       "      <th>4</th>\n",
       "      <td>CRG_002</td>\n",
       "      <td>Oneonta Gorge</td>\n",
       "      <td>1</td>\n",
       "      <td>2019</td>\n",
       "      <td>1</td>\n",
       "      <td>post</td>\n",
       "      <td>yes</td>\n",
       "      <td>yes</td>\n",
       "      <td>0</td>\n",
       "      <td>closed</td>\n",
       "      <td>2019-01-15</td>\n",
       "    </tr>\n",
       "  </tbody>\n",
       "</table>\n",
       "</div>"
      ],
      "text/plain": [
       "    siteid           Name  month  year  years_fire pre_post_fire burned  \\\n",
       "0  CRG_002  Oneonta Gorge      1  2015          -3           pre    yes   \n",
       "1  CRG_002  Oneonta Gorge      1  2016          -2           pre    yes   \n",
       "2  CRG_002  Oneonta Gorge      1  2017          -1           pre    yes   \n",
       "3  CRG_002  Oneonta Gorge      1  2018           0          post    yes   \n",
       "4  CRG_002  Oneonta Gorge      1  2019           1          post    yes   \n",
       "\n",
       "  closed_ever  tot_vis closed_month         d2p  \n",
       "0         yes      169         open  2015-01-15  \n",
       "1         yes      436         open  2016-01-15  \n",
       "2         yes      788         open  2017-01-15  \n",
       "3         yes        0       closed  2018-01-15  \n",
       "4         yes        0       closed  2019-01-15  "
      ]
     },
     "execution_count": 12,
     "metadata": {},
     "output_type": "execute_result"
    }
   ],
   "source": [
    "# v for visits\n",
    "v = pd.read_csv(r'monthly_vis_by_site_zeroed.csv')\n",
    "v.head()"
   ]
  },
  {
   "cell_type": "markdown",
   "id": "5fb16560",
   "metadata": {},
   "source": [
    "Next, check out each variable in turn. \n",
    "\n",
    "\"siteid\" and \"Name' identify the trail/recreation sites. There are 41 sites and each site has 61 rows in the data. "
   ]
  },
  {
   "cell_type": "code",
   "execution_count": 17,
   "id": "c38e4c05",
   "metadata": {},
   "outputs": [
    {
     "data": {
      "text/plain": [
       "41"
      ]
     },
     "execution_count": 17,
     "metadata": {},
     "output_type": "execute_result"
    }
   ],
   "source": [
    "v['siteid'].nunique()\n",
    "# siteid - string, 41 unique values"
   ]
  },
  {
   "cell_type": "code",
   "execution_count": 19,
   "id": "cfc0ee85",
   "metadata": {},
   "outputs": [
    {
     "data": {
      "text/plain": [
       "Oneonta Gorge                         61\n",
       "Angels rest trail                     61\n",
       "Latourell Falls                       61\n",
       "Dog River                             61\n",
       "Umbrella/Sahalie Falls                61\n",
       "Surveyors ridge/cooks meadow          61\n",
       "Eight Mile trail                      61\n",
       "Cape Horn                             61\n",
       "Falls Creek Falls                     61\n",
       "Panther Creek Falls                   61\n",
       "Weldon Wagon Rd Trail                 61\n",
       "Lower Deschutes                       61\n",
       "Mosier Twin Tunnels Trail             61\n",
       "Klickitat Trail                       61\n",
       "Starvation Creek area                 61\n",
       "Washougal River area                  61\n",
       "Wind Mountain                         61\n",
       "Dog Creek Falls                       61\n",
       "Spirit falls                          61\n",
       "Beacon Rock                           61\n",
       "Wahkeena Falls                        61\n",
       "Horsetail Creek                       61\n",
       "Horsetail Falls                       61\n",
       "Nesmith Point, McCord, Elowa Falls    61\n",
       "Munra Falls                           61\n",
       "Tanner Butte                          61\n",
       "Eagle Creek                           61\n",
       "Indian Springs                        61\n",
       "Ruckel Creek                          61\n",
       "Coyote Wall area                      61\n",
       "Catherine Creek area                  61\n",
       "Cherry Orchard FCG trail              61\n",
       "Tom McCall TNC trail                  61\n",
       "Crawford Oaks WDNR                    61\n",
       "Mosier Plateau FCG trail              61\n",
       "Memaloose trail                       61\n",
       "Tamanawas Falls trail                 61\n",
       "Dog Mountain/Augspurger Mtn           61\n",
       "Mitchell/Wygant area                  61\n",
       "Herman Creek                          61\n",
       "Larch Mountain                        61\n",
       "Name: Name, dtype: int64"
      ]
     },
     "execution_count": 19,
     "metadata": {},
     "output_type": "execute_result"
    }
   ],
   "source": [
    "v['Name'].nunique()\n",
    "# Name - string, 41 unique values"
   ]
  },
  {
   "cell_type": "code",
   "execution_count": 25,
   "id": "80e83a6c",
   "metadata": {},
   "outputs": [
    {
     "data": {
      "text/plain": [
       "Oneonta Gorge                         61\n",
       "Angels rest trail                     61\n",
       "Latourell Falls                       61\n",
       "Dog River                             61\n",
       "Umbrella/Sahalie Falls                61\n",
       "Surveyors ridge/cooks meadow          61\n",
       "Eight Mile trail                      61\n",
       "Cape Horn                             61\n",
       "Falls Creek Falls                     61\n",
       "Panther Creek Falls                   61\n",
       "Weldon Wagon Rd Trail                 61\n",
       "Lower Deschutes                       61\n",
       "Mosier Twin Tunnels Trail             61\n",
       "Klickitat Trail                       61\n",
       "Starvation Creek area                 61\n",
       "Washougal River area                  61\n",
       "Wind Mountain                         61\n",
       "Dog Creek Falls                       61\n",
       "Spirit falls                          61\n",
       "Beacon Rock                           61\n",
       "Wahkeena Falls                        61\n",
       "Horsetail Creek                       61\n",
       "Horsetail Falls                       61\n",
       "Nesmith Point, McCord, Elowa Falls    61\n",
       "Munra Falls                           61\n",
       "Tanner Butte                          61\n",
       "Eagle Creek                           61\n",
       "Indian Springs                        61\n",
       "Ruckel Creek                          61\n",
       "Coyote Wall area                      61\n",
       "Catherine Creek area                  61\n",
       "Cherry Orchard FCG trail              61\n",
       "Tom McCall TNC trail                  61\n",
       "Crawford Oaks WDNR                    61\n",
       "Mosier Plateau FCG trail              61\n",
       "Memaloose trail                       61\n",
       "Tamanawas Falls trail                 61\n",
       "Dog Mountain/Augspurger Mtn           61\n",
       "Mitchell/Wygant area                  61\n",
       "Herman Creek                          61\n",
       "Larch Mountain                        61\n",
       "Name: Name, dtype: int64"
      ]
     },
     "execution_count": 25,
     "metadata": {},
     "output_type": "execute_result"
    }
   ],
   "source": [
    "v['Name'].value_counts()\n",
    "# appears to be a balanced panel - each site has 61 entries"
   ]
  },
  {
   "cell_type": "markdown",
   "id": "89172a99",
   "metadata": {},
   "source": [
    "Looking at the month variable, something weird emerges - looks like month 9 (september) has an extra 41 rows. "
   ]
  },
  {
   "cell_type": "code",
   "execution_count": 27,
   "id": "d81fc628",
   "metadata": {},
   "outputs": [
    {
     "data": {
      "text/plain": [
       "9     246\n",
       "1     205\n",
       "2     205\n",
       "3     205\n",
       "4     205\n",
       "5     205\n",
       "6     205\n",
       "7     205\n",
       "8     205\n",
       "10    205\n",
       "11    205\n",
       "12    205\n",
       "Name: month, dtype: int64"
      ]
     },
     "execution_count": 27,
     "metadata": {},
     "output_type": "execute_result"
    }
   ],
   "source": [
    "v['month'].value_counts()\n",
    "# Month runs from 1 to 12, but 9 (September) has 41 more rows"
   ]
  },
  {
   "cell_type": "markdown",
   "id": "73f7fd2f",
   "metadata": {},
   "source": [
    "It looks like September 2016 has double the rows of any other month. Also, the data starts in September 2014 and ends in August 2019. "
   ]
  },
  {
   "cell_type": "code",
   "execution_count": 29,
   "id": "ed920737",
   "metadata": {},
   "outputs": [
    {
     "data": {
      "text/html": [
       "<div>\n",
       "<style scoped>\n",
       "    .dataframe tbody tr th:only-of-type {\n",
       "        vertical-align: middle;\n",
       "    }\n",
       "\n",
       "    .dataframe tbody tr th {\n",
       "        vertical-align: top;\n",
       "    }\n",
       "\n",
       "    .dataframe thead th {\n",
       "        text-align: right;\n",
       "    }\n",
       "</style>\n",
       "<table border=\"1\" class=\"dataframe\">\n",
       "  <thead>\n",
       "    <tr style=\"text-align: right;\">\n",
       "      <th>year</th>\n",
       "      <th>2014</th>\n",
       "      <th>2015</th>\n",
       "      <th>2016</th>\n",
       "      <th>2017</th>\n",
       "      <th>2018</th>\n",
       "      <th>2019</th>\n",
       "    </tr>\n",
       "    <tr>\n",
       "      <th>month</th>\n",
       "      <th></th>\n",
       "      <th></th>\n",
       "      <th></th>\n",
       "      <th></th>\n",
       "      <th></th>\n",
       "      <th></th>\n",
       "    </tr>\n",
       "  </thead>\n",
       "  <tbody>\n",
       "    <tr>\n",
       "      <th>1</th>\n",
       "      <td>0</td>\n",
       "      <td>41</td>\n",
       "      <td>41</td>\n",
       "      <td>41</td>\n",
       "      <td>41</td>\n",
       "      <td>41</td>\n",
       "    </tr>\n",
       "    <tr>\n",
       "      <th>2</th>\n",
       "      <td>0</td>\n",
       "      <td>41</td>\n",
       "      <td>41</td>\n",
       "      <td>41</td>\n",
       "      <td>41</td>\n",
       "      <td>41</td>\n",
       "    </tr>\n",
       "    <tr>\n",
       "      <th>3</th>\n",
       "      <td>0</td>\n",
       "      <td>41</td>\n",
       "      <td>41</td>\n",
       "      <td>41</td>\n",
       "      <td>41</td>\n",
       "      <td>41</td>\n",
       "    </tr>\n",
       "    <tr>\n",
       "      <th>4</th>\n",
       "      <td>0</td>\n",
       "      <td>41</td>\n",
       "      <td>41</td>\n",
       "      <td>41</td>\n",
       "      <td>41</td>\n",
       "      <td>41</td>\n",
       "    </tr>\n",
       "    <tr>\n",
       "      <th>5</th>\n",
       "      <td>0</td>\n",
       "      <td>41</td>\n",
       "      <td>41</td>\n",
       "      <td>41</td>\n",
       "      <td>41</td>\n",
       "      <td>41</td>\n",
       "    </tr>\n",
       "    <tr>\n",
       "      <th>6</th>\n",
       "      <td>0</td>\n",
       "      <td>41</td>\n",
       "      <td>41</td>\n",
       "      <td>41</td>\n",
       "      <td>41</td>\n",
       "      <td>41</td>\n",
       "    </tr>\n",
       "    <tr>\n",
       "      <th>7</th>\n",
       "      <td>0</td>\n",
       "      <td>41</td>\n",
       "      <td>41</td>\n",
       "      <td>41</td>\n",
       "      <td>41</td>\n",
       "      <td>41</td>\n",
       "    </tr>\n",
       "    <tr>\n",
       "      <th>8</th>\n",
       "      <td>0</td>\n",
       "      <td>41</td>\n",
       "      <td>41</td>\n",
       "      <td>41</td>\n",
       "      <td>41</td>\n",
       "      <td>41</td>\n",
       "    </tr>\n",
       "    <tr>\n",
       "      <th>9</th>\n",
       "      <td>41</td>\n",
       "      <td>41</td>\n",
       "      <td>82</td>\n",
       "      <td>41</td>\n",
       "      <td>41</td>\n",
       "      <td>0</td>\n",
       "    </tr>\n",
       "    <tr>\n",
       "      <th>10</th>\n",
       "      <td>41</td>\n",
       "      <td>41</td>\n",
       "      <td>41</td>\n",
       "      <td>41</td>\n",
       "      <td>41</td>\n",
       "      <td>0</td>\n",
       "    </tr>\n",
       "    <tr>\n",
       "      <th>11</th>\n",
       "      <td>41</td>\n",
       "      <td>41</td>\n",
       "      <td>41</td>\n",
       "      <td>41</td>\n",
       "      <td>41</td>\n",
       "      <td>0</td>\n",
       "    </tr>\n",
       "    <tr>\n",
       "      <th>12</th>\n",
       "      <td>41</td>\n",
       "      <td>41</td>\n",
       "      <td>41</td>\n",
       "      <td>41</td>\n",
       "      <td>41</td>\n",
       "      <td>0</td>\n",
       "    </tr>\n",
       "  </tbody>\n",
       "</table>\n",
       "</div>"
      ],
      "text/plain": [
       "year   2014  2015  2016  2017  2018  2019\n",
       "month                                    \n",
       "1         0    41    41    41    41    41\n",
       "2         0    41    41    41    41    41\n",
       "3         0    41    41    41    41    41\n",
       "4         0    41    41    41    41    41\n",
       "5         0    41    41    41    41    41\n",
       "6         0    41    41    41    41    41\n",
       "7         0    41    41    41    41    41\n",
       "8         0    41    41    41    41    41\n",
       "9        41    41    82    41    41     0\n",
       "10       41    41    41    41    41     0\n",
       "11       41    41    41    41    41     0\n",
       "12       41    41    41    41    41     0"
      ]
     },
     "execution_count": 29,
     "metadata": {},
     "output_type": "execute_result"
    }
   ],
   "source": [
    "pd.crosstab(v['month'], v['year'])"
   ]
  },
  {
   "cell_type": "code",
   "execution_count": null,
   "id": "ece720a4",
   "metadata": {},
   "outputs": [],
   "source": []
  }
 ],
 "metadata": {
  "kernelspec": {
   "display_name": "Python 3 (ipykernel)",
   "language": "python",
   "name": "python3"
  },
  "language_info": {
   "codemirror_mode": {
    "name": "ipython",
    "version": 3
   },
   "file_extension": ".py",
   "mimetype": "text/x-python",
   "name": "python",
   "nbconvert_exporter": "python",
   "pygments_lexer": "ipython3",
   "version": "3.9.7"
  }
 },
 "nbformat": 4,
 "nbformat_minor": 5
}
